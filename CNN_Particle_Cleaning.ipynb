{
 "cells": [
  {
   "cell_type": "code",
   "execution_count": null,
   "id": "cab42447-0222-4b63-8abc-bc00e7060e8e",
   "metadata": {},
   "outputs": [],
   "source": [
    "import os\n",
    "import sys\n",
    "import numpy as np\n",
    "import pandas as pd\n",
    "import starfile\n",
    "import matplotlib as mpl\n",
    "import matplotlib.pyplot as plt\n",
    "from matplotlib import cm\n",
    "import open3d as o3d"
   ]
  },
  {
   "cell_type": "code",
   "execution_count": null,
   "id": "f3ef7732-f5bd-4b81-a2fb-710cd4d709ee",
   "metadata": {},
   "outputs": [],
   "source": [
    "#Read text file and gives it the variable name pcd. The full file path name to desired file is required.\n",
    "#Format xyz indicates each line contains x, y, z coordinates\n",
    "pcd = o3d.io.read_point_cloud(\"PR8-TS23_HA\", format='xyz')"
   ]
  },
  {
   "cell_type": "code",
   "execution_count": null,
   "id": "9f2a74b5-dfda-4118-83a9-48dc38972aa6",
   "metadata": {},
   "outputs": [],
   "source": [
    "#Defines variables where inliers are an index and outliers are anything that was not indexed in inlier\n",
    "def display_inlier_outlier(cloud, ind):\n",
    "    inlier_cloud = cloud.select_by_index(ind)\n",
    "    outlier_cloud = cloud.select_by_index(ind, invert=True)\n",
    "#Setting up what colors inlier and outlier coordinates would be in a point cloud\n",
    "    print(\"Showing outliers (red) and inliers (gray): \")\n",
    "    outlier_cloud.paint_uniform_color([1, 0, 0])\n",
    "    inlier_cloud.paint_uniform_color([0.8, 0.8, 0.8])\n",
    "#Visualizes point cloud of the inlier and outlier coordinates    \n",
    "    o3d.visualization.draw_geometries([inlier_cloud, outlier_cloud])"
   ]
  },
  {
   "cell_type": "code",
   "execution_count": null,
   "id": "9999f090-ea0d-4cbc-87ef-742135e1cdd8",
   "metadata": {},
   "outputs": [],
   "source": [
    "print(\"Load a ply point cloud, print it, and render it\")\n",
    "#Prints how many points are in the point cloud as an array\n",
    "print(np.asarray(pcd))\n",
    "#Color coding for the point cloud\n",
    "pcd.paint_uniform_color([0.8, 0.8, 0.8])\n",
    "#Makes a 3D visualization of the point cloud\n",
    "o3d.visualization.draw_geometries([pcd])"
   ]
  },
  {
   "cell_type": "code",
   "execution_count": null,
   "id": "f3a6a5fd-34e6-454f-b6c3-a30451d17f00",
   "metadata": {},
   "outputs": [],
   "source": [
    "print(\"Statistical oulier removal\")\n",
    "pcd_clean, ind = pcd.remove_statistical_outlier(nb_neighbors=10,\n",
    "                                                std_ratio=0.5)\n",
    "display_inlier_outlier(pcd, ind)\n"
   ]
  },
  {
   "cell_type": "code",
   "execution_count": 236,
   "id": "14cf0995-07c6-4012-a533-a55d2cec98be",
   "metadata": {},
   "outputs": [],
   "source": [
    "cl_array=np.asarray(pcd_clean.points)"
   ]
  },
  {
   "cell_type": "code",
   "execution_count": 237,
   "id": "3c63de94-def7-4e33-b531-555c159e5e56",
   "metadata": {},
   "outputs": [],
   "source": [
    "np.savetxt('PR8-TS50oligo_Matrix_clean.txt', cl_array, fmt = '%i')"
   ]
  },
  {
   "cell_type": "code",
   "execution_count": null,
   "id": "e9167329-5bf4-4497-8332-634e8ded2444",
   "metadata": {},
   "outputs": [],
   "source": []
  }
 ],
 "metadata": {
  "kernelspec": {
   "display_name": "Python 3 (ipykernel)",
   "language": "python",
   "name": "python3"
  },
  "language_info": {
   "codemirror_mode": {
    "name": "ipython",
    "version": 3
   },
   "file_extension": ".py",
   "mimetype": "text/x-python",
   "name": "python",
   "nbconvert_exporter": "python",
   "pygments_lexer": "ipython3",
   "version": "3.13.5"
  }
 },
 "nbformat": 4,
 "nbformat_minor": 5
}
