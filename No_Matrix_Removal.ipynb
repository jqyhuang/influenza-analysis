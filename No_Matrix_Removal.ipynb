{
 "cells": [
  {
   "cell_type": "code",
   "execution_count": 1,
   "id": "b47a4bd2-91a3-4942-b263-214594d48b97",
   "metadata": {},
   "outputs": [],
   "source": [
    "import os\n",
    "import sys\n",
    "import copy\n",
    "import numpy as np\n",
    "import pandas as pd\n",
    "import starfile\n",
    "import matplotlib as mpl\n",
    "import matplotlib.pyplot as plt\n",
    "from matplotlib import cm\n",
    "import open3d as o3d"
   ]
  },
  {
   "cell_type": "code",
   "execution_count": 140,
   "id": "6ed422df-9371-46c2-8f37-3e11515c6fe8",
   "metadata": {},
   "outputs": [],
   "source": [
    "#Creating variables that read the HA and matrix coordinates. Need file path to open them. \n",
    "pcd_ha = o3d.io.read_point_cloud(\"/home/clint.mcdaniel-umw/flu_tomos/Cleaned_Particles_061724/PR8-TS21_HA_clean.txt\", format='xyz')\n",
    "pcd_matrix = o3d.io.read_point_cloud(\"/home/clint.mcdaniel-umw/flu_tomos/Cleaned_Particles_061724/PR8-TS21_Matrix_clean.txt\", format='xyz')"
   ]
  },
  {
   "cell_type": "code",
   "execution_count": 141,
   "id": "4e785600-f7ce-45a6-b97b-8c8d2de8c309",
   "metadata": {},
   "outputs": [
    {
     "name": "stderr",
     "output_type": "stream",
     "text": [
      "error: XDG_RUNTIME_DIR is invalid or not set in the environment.\n"
     ]
    }
   ],
   "source": [
    "#Assigns red color to matrix pcd.\n",
    "pcd_matrix.paint_uniform_color([1, 0, 0])\n",
    "#Assigns grey color to ha pcd.\n",
    "pcd_ha.paint_uniform_color((0.8, 0.8, 0.8))\n",
    "#Plots both pcd's.\n",
    "o3d.visualization.draw_geometries([pcd_ha,pcd_matrix])"
   ]
  },
  {
   "cell_type": "code",
   "execution_count": 142,
   "id": "93135834-8e09-4c82-90e5-e087ffd027df",
   "metadata": {},
   "outputs": [],
   "source": [
    "#Calculates the distances between points on the ha pcd to the matrix pcd.\n",
    "dists = pcd_ha.compute_point_cloud_distance(pcd_matrix)\n",
    "#Creates an array of the distances.\n",
    "dists = np.asarray(dists)"
   ]
  },
  {
   "cell_type": "code",
   "execution_count": 143,
   "id": "5d3fb9be-f2ef-4956-baca-38834fa60945",
   "metadata": {},
   "outputs": [],
   "source": [
    "#Index is created for ha points where the distance is less than 40.\n",
    "#Can edit distance if needed.\n",
    "ind = np.where(dists < 40) [0]"
   ]
  },
  {
   "cell_type": "code",
   "execution_count": 144,
   "id": "cfd1346e-54ce-4fa3-982b-466b9dfe4d5e",
   "metadata": {},
   "outputs": [
    {
     "name": "stderr",
     "output_type": "stream",
     "text": [
      "error: XDG_RUNTIME_DIR is invalid or not set in the environment.\n"
     ]
    }
   ],
   "source": [
    "#Points from the ha pcd that are not in the index are selected\n",
    "pcd_without_matrix = pcd_ha.select_by_index(ind,invert=True)\n",
    "#Points from the ha pcd that are in the index are selected\n",
    "pcd_with_matrix = pcd_ha.select_by_index(ind)\n",
    "#Assigns red as the color for the pcd w/matrix\n",
    "pcd_with_matrix.paint_uniform_color([1, 0, 0])\n",
    "#Assigns grey for the pcd w/o matrix\n",
    "pcd_without_matrix.paint_uniform_color([0.8, 0.8, 0.8])\n",
    "#Plots both\n",
    "o3d.visualization.draw_geometries([pcd_with_matrix,pcd_without_matrix])"
   ]
  },
  {
   "cell_type": "code",
   "execution_count": 145,
   "id": "a60f6453-0b9a-4c8c-81fb-1fe704efbe58",
   "metadata": {},
   "outputs": [],
   "source": [
    "#Creates an array with the pcd w/matrix coordinates\n",
    "cl_array=np.asarray(pcd_with_matrix.points)"
   ]
  },
  {
   "cell_type": "code",
   "execution_count": 146,
   "id": "f912802b-2db1-4832-8675-42536323a871",
   "metadata": {},
   "outputs": [],
   "source": [
    "#Saves array with coordinates for HA with matrix to the folder the notebook is in.\n",
    "#Edit file name in '' section. Will overwrite files with the same name.\n",
    "np.savetxt('PR8-TS21_with_matrix.txt', cl_array, fmt = '%i')"
   ]
  }
 ],
 "metadata": {
  "kernelspec": {
   "display_name": "Python 3 (ipykernel)",
   "language": "python",
   "name": "python3"
  },
  "language_info": {
   "codemirror_mode": {
    "name": "ipython",
    "version": 3
   },
   "file_extension": ".py",
   "mimetype": "text/x-python",
   "name": "python",
   "nbconvert_exporter": "python",
   "pygments_lexer": "ipython3",
   "version": "3.13.5"
  }
 },
 "nbformat": 4,
 "nbformat_minor": 5
}
