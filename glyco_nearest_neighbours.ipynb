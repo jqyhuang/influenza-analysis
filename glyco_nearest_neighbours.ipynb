{
 "cells": [
  {
   "cell_type": "code",
   "execution_count": 8,
   "metadata": {},
   "outputs": [],
   "source": [
    "import os, sys\n",
    "import numpy as np\n",
    "import pandas as pd\n",
    "from sklearn.neighbors import NearestNeighbors\n",
    "import csv\n",
    "import matplotlib\n",
    "import matplotlib.pyplot as plt"
   ]
  },
  {
   "cell_type": "code",
   "execution_count": 9,
   "metadata": {},
   "outputs": [],
   "source": [
    "coords =\n",
    "vectors = []\n",
    "with open(coords) as csvfile:\n",
    "    reader = csv.reader(csvfile, quoting=csv.QUOTE_NONNUMERIC) \n",
    "    for row in reader: \n",
    "        vectors.append(row)"
   ]
  },
  {
   "cell_type": "code",
   "execution_count": 10,
   "metadata": {},
   "outputs": [],
   "source": [
    "K_th = int(1)\n",
    "pixel = float(0.209)\n",
    "vectorarray = np.array(vectors)\n",
    "K_corr = K_th + 3\n",
    "\n",
    "nbrs = NearestNeighbors(n_neighbors=K_corr, algorithm='brute').fit(vectorarray)\n",
    "results, indices = nbrs.kneighbors(vectorarray)\n",
    "\n",
    "dist = np.delete(results, np.s_[:K_th:], 1)\n",
    "dist = np.multiply(dist, pixel)\n",
    "dist_df=pd.DataFrame(dist)\n",
    "dist_df.to_csv(os.path.join(datadir,(\"{}_nbr.csv\").format(prefix)))\n"
   ]
  }
 ],
 "metadata": {
  "kernelspec": {
   "display_name": "Python 3",
   "language": "python",
   "name": "python3"
  },
  "language_info": {
   "codemirror_mode": {
    "name": "ipython",
    "version": 3
   },
   "file_extension": ".py",
   "mimetype": "text/x-python",
   "name": "python",
   "nbconvert_exporter": "python",
   "pygments_lexer": "ipython3",
   "version": "3.7.9"
  }
 },
 "nbformat": 4,
 "nbformat_minor": 2
}
