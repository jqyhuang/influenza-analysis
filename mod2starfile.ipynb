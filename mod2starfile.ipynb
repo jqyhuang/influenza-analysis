{
 "cells": [
  {
   "cell_type": "code",
   "execution_count": 1,
   "metadata": {},
   "outputs": [],
   "source": [
    "from pathlib import Path\n",
    "from typing import Tuple\n",
    "import glob\n",
    "import eulerangles\n",
    "import imodmodel\n",
    "import numpy as np\n",
    "import pandas as pd\n",
    "import starfile as starfile\n",
    "from pydantic import BaseModel"
   ]
  },
  {
   "cell_type": "code",
   "execution_count": null,
   "metadata": {},
   "outputs": [],
   "source": [
    "for modfile in modlist:\n",
    "    df=imodmodel.read(modfile)\n",
    "    coords=[]\n",
    "    for contour_id, group in df.groupby('contour_id'):\n",
    "        assert (len(group) == 1)\n",
    "        c = group.iloc[0, :][['x', 'y', 'z']]\n",
    "        coords.append(c)\n",
    "    xyz = np.array([(c[0], c[1], c[2]) for c in coords])*4\n",
    "    df_coords = pd.DataFrame(\n",
    "        {\n",
    "            'rlnTomoName': modfile[:-4],\n",
    "            'rlnCoordinateX': xyz[:, 0],\n",
    "            'rlnCoordinateY': xyz[:, 1],\n",
    "            'rlnCoordinateZ': xyz[:, 2],\n",
    "        })\n",
    "    starname='{}_particles.star'.format(modfile[:-4])\n",
    "    starfile.write(df_coords, starname,overwrite=True)"
   ]
  }
 ],
 "metadata": {
  "kernelspec": {
   "display_name": "Python 3 (ipykernel)",
   "language": "python",
   "name": "python3"
  },
  "language_info": {
   "codemirror_mode": {
    "name": "ipython",
    "version": 3
   },
   "file_extension": ".py",
   "mimetype": "text/x-python",
   "name": "python",
   "nbconvert_exporter": "python",
   "pygments_lexer": "ipython3",
   "version": "3.9.15"
  }
 },
 "nbformat": 4,
 "nbformat_minor": 2
}
