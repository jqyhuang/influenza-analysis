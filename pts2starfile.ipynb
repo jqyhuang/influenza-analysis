{
 "cells": [
  {
   "cell_type": "code",
   "execution_count": 1,
   "metadata": {},
   "outputs": [],
   "source": [
    "import glob\n",
    "import numpy as np\n",
    "import pandas as pd\n",
    "import starfile as starfile"
   ]
  },
  {
   "cell_type": "code",
   "execution_count": 6,
   "metadata": {},
   "outputs": [
    {
     "name": "stderr",
     "output_type": "stream",
     "text": [
      "/home/clint.mcdaniel-umw/miniconda3/envs/myenv/lib/python3.11/site-packages/starfile/writer.py:181: FutureWarning: DataFrame.applymap has been deprecated. Use DataFrame.map instead.\n",
      "  df = df.applymap(lambda x: f'{quote_character}{x}{quote_character}'\n"
     ]
    }
   ],
   "source": [
    "#Glob finds files that match the name given and lists them.\n",
    "#Files to convert need to be in the same folder as notebook or you can include the path name as an additonal parameter.\n",
    "# * indicates one or more characters that are not exact\n",
    "\n",
    "star_df=[]\n",
    "for points in glob.glob('coords.txt'):\n",
    "    df_points=pd.read_csv(points,sep=' ',header=None)\n",
    "    coords=[]\n",
    "    for index in df_points.index:\n",
    "        c = df_points.iloc[index, :]\n",
    "        coords.append(c)\n",
    "    xyz = np.array([(c[0], c[1], c[2]) for c in coords])\n",
    "    name=\"{}.tomostar\".format(points.split('_')[0])\n",
    "    df = pd.DataFrame(\n",
    "        {\n",
    "            'rlnCoordinateX': xyz[:, 0],\n",
    "            'rlnCoordinateY': xyz[:, 1],\n",
    "            'rlnCoordinateZ': xyz[:, 2],\n",
    "        })\n",
    "    df['rlnMicrographName'] =name\n",
    "    star_df.append(df)\n",
    "    \n",
    "starfile.write(pd.concat(star_df,axis=0,ignore_index=True), 'concat_coords.star',overwrite=True)"
   ]
  }
 ],
 "metadata": {
  "kernelspec": {
   "display_name": "Python 3 (ipykernel)",
   "language": "python",
   "name": "python3"
  },
  "language_info": {
   "codemirror_mode": {
    "name": "ipython",
    "version": 3
   },
   "file_extension": ".py",
   "mimetype": "text/x-python",
   "name": "python",
   "nbconvert_exporter": "python",
   "pygments_lexer": "ipython3",
   "version": "3.13.5"
  }
 },
 "nbformat": 4,
 "nbformat_minor": 4
}
